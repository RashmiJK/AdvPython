{
 "cells": [
  {
   "cell_type": "markdown",
   "id": "15a26d1c-fe40-4083-83b5-8b2e3099e544",
   "metadata": {},
   "source": [
    "# Decorators in Python play a role in enhancing or modifying the behavior of functions"
   ]
  },
  {
   "cell_type": "code",
   "execution_count": 1,
   "id": "622886ad-bb28-4b15-9b6b-cf7551ea4ef8",
   "metadata": {},
   "outputs": [
    {
     "data": {
      "text/plain": [
       "8"
      ]
     },
     "execution_count": 1,
     "metadata": {},
     "output_type": "execute_result"
    }
   ],
   "source": [
    "# Assigning function to a variable\n",
    "def plus_one(number: int):\n",
    "    return number + 1\n",
    "\n",
    "var = plus_one\n",
    "var(7)"
   ]
  },
  {
   "cell_type": "code",
   "execution_count": 4,
   "id": "79f05402-22f2-4b7a-86fd-86e87015fe16",
   "metadata": {},
   "outputs": [
    {
     "name": "stdout",
     "output_type": "stream",
     "text": [
      "5\n"
     ]
    }
   ],
   "source": [
    "def plus_one(number: int):\n",
    "    def add_one(number: int):\n",
    "        return number + 1\n",
    "\n",
    "    result = add_one(number)\n",
    "    return result\n",
    "\n",
    "print(plus_one(4))"
   ]
  },
  {
   "cell_type": "code",
   "execution_count": 5,
   "id": "4944b124-1a2d-481e-b809-4e7d20992420",
   "metadata": {},
   "outputs": [
    {
     "data": {
      "text/plain": [
       "6"
      ]
     },
     "execution_count": 5,
     "metadata": {},
     "output_type": "execute_result"
    }
   ],
   "source": [
    "# Passing functions as arguments to other functions\n",
    "def plus_one(number: int):\n",
    "    return number + 1\n",
    "\n",
    "def call_function(func):\n",
    "    number_to_add = 5\n",
    "    return(func(number_to_add))\n",
    "\n",
    "call_function(plus_one)\n",
    "    "
   ]
  },
  {
   "cell_type": "code",
   "execution_count": 6,
   "id": "423ee7c1-145b-4b35-930d-5f879976c8f5",
   "metadata": {},
   "outputs": [
    {
     "data": {
      "text/plain": [
       "'Hi'"
      ]
     },
     "execution_count": 6,
     "metadata": {},
     "output_type": "execute_result"
    }
   ],
   "source": [
    "# Functions returning another functions\n",
    "\n",
    "def greet():\n",
    "    def say_hi():\n",
    "        return \"Hi\"\n",
    "    return say_hi\n",
    "\n",
    "ok_to_greet = greet()\n",
    "ok_to_greet()"
   ]
  },
  {
   "cell_type": "code",
   "execution_count": 8,
   "id": "a4ec89e4-d635-44bd-abb3-370d57d8c3e9",
   "metadata": {},
   "outputs": [
    {
     "name": "stdout",
     "output_type": "stream",
     "text": [
      "Message from closure: Hello closure!\n"
     ]
    }
   ],
   "source": [
    "def outer_func(msg: str):\n",
    "    def inner_func():\n",
    "        print(f\"Message from closure: {msg}\")\n",
    "    return inner_func\n",
    "\n",
    "cl_func = outer_func(\"Hello closure!\")\n",
    "cl_func()"
   ]
  },
  {
   "cell_type": "code",
   "execution_count": 20,
   "id": "df474da9-05ae-47e8-9e91-12360cd8ac81",
   "metadata": {},
   "outputs": [
    {
     "name": "stdout",
     "output_type": "stream",
     "text": [
      "Before the function call\n",
      "Hello!\n",
      "After the function call \n",
      "**********\n",
      "Before the function call\n",
      "Before the function call\n",
      "Hello!\n",
      "After the function call \n",
      "After the function call \n"
     ]
    }
   ],
   "source": [
    "# 'out' is decorator and 'in' is wrapper\n",
    "\n",
    "def simple_decorator(func):\n",
    "    def simple_wrapper():\n",
    "        print(\"Before the function call\")\n",
    "        func()\n",
    "        print(\"After the function call \")\n",
    "    return simple_wrapper\n",
    "\n",
    "def not_decorator(func):\n",
    "    print(\"This is not a decorator!\")\n",
    "    \n",
    "@simple_decorator\n",
    "def greet():\n",
    "    print(\"Hello!\")\n",
    "greet()\n",
    "\n",
    "print(\"**********\")\n",
    "\n",
    "# under the hood call maybe is as below\n",
    "simple_decorator(greet)()"
   ]
  },
  {
   "cell_type": "code",
   "execution_count": 30,
   "id": "efb44758-b4ed-45f3-b1f2-9b7b523073df",
   "metadata": {},
   "outputs": [
    {
     "name": "stdout",
     "output_type": "stream",
     "text": [
      "*******\n",
      "<class 'str'>\n"
     ]
    },
    {
     "data": {
      "text/plain": [
       "'HELLO THERE!'"
      ]
     },
     "execution_count": 30,
     "metadata": {},
     "output_type": "execute_result"
    }
   ],
   "source": [
    "# Uppercase decorator\n",
    "\n",
    "def uppercase_decorator(func):\n",
    "    def wrapper():\n",
    "        my_greeting = func()\n",
    "        #print(type(my_greeting))\n",
    "        my_greeting = my_greeting.upper()\n",
    "        return my_greeting\n",
    "    return wrapper\n",
    "\n",
    "'''\n",
    "@uppercase_decorator\n",
    "def greet():\n",
    "    return \"hello there!\"\n",
    "greet()\n",
    "'''\n",
    "func_ptr = uppercase_decorator(greet)\n",
    "print(\"*******\")\n",
    "func_ptr()"
   ]
  },
  {
   "cell_type": "code",
   "execution_count": 40,
   "id": "e1d24630-9bdc-4e25-8320-c0d0f38f4217",
   "metadata": {},
   "outputs": [
    {
     "name": "stdout",
     "output_type": "stream",
     "text": [
      "My greeting is ['HELLO', 'FROM', 'ME!']\n"
     ]
    }
   ],
   "source": [
    "def uppercase_decorator(fn):\n",
    "    def wrapper():\n",
    "        my_str = fn()\n",
    "        my_str = my_str.upper()\n",
    "        #print(f\"In uppercase_decorator, returning {my_str}\")\n",
    "        return my_str\n",
    "    return wrapper\n",
    "\n",
    "import functools\n",
    "def split_strings(function):\n",
    "    @functools.wraps(function)\n",
    "    def wrapper():\n",
    "        func = function()\n",
    "        splitted_string = func.split()\n",
    "        #print(f\"In split_strings, returning {splitted_string}\")\n",
    "        return splitted_string\n",
    "    return wrapper\n",
    "\n",
    "@split_strings\n",
    "@uppercase_decorator\n",
    "def my_greeting():\n",
    "    return \"Hello from me!\"\n",
    "\n",
    "print(f\"My greeting is {my_greeting()}\")"
   ]
  },
  {
   "cell_type": "markdown",
   "id": "ea69f8e1-6dde-4f2e-b76a-65cf1a6d0510",
   "metadata": {},
   "source": [
    "## Main benefit of using @functools.wraps is to preserve metadata. Following exmaple demonstrates this usage."
   ]
  },
  {
   "cell_type": "code",
   "execution_count": 42,
   "id": "68468d4a-721b-4459-bc28-aa11a4f34904",
   "metadata": {},
   "outputs": [
    {
     "name": "stdout",
     "output_type": "stream",
     "text": [
      "*********\n",
      "my_function\n",
      "wrapper\n",
      "None\n",
      "*********\n",
      "my_another_function\n",
      "my_another_function\n",
      "This is my_another_function's docstring\n",
      "*********\n"
     ]
    }
   ],
   "source": [
    "# without @functools.wraps\n",
    "def decorator_without_functools_wraps(func):\n",
    "    def wrapper():\n",
    "        return func()\n",
    "    return wrapper\n",
    "\n",
    "# With @functools.wraps\n",
    "def decorator_with_functools_wraps(func):\n",
    "    @functools.wraps(func)\n",
    "    def wrapper():\n",
    "        return func()\n",
    "    return wrapper\n",
    "\n",
    "@decorator_without_functools_wraps\n",
    "def my_function():\n",
    "    \"\"\"This is my_function's docstring\"\"\"\n",
    "    return \"my_function\"\n",
    "\n",
    "@decorator_with_functools_wraps\n",
    "def my_another_function():\n",
    "    \"\"\"This is my_another_function's docstring\"\"\"\n",
    "    return \"my_another_function\"\n",
    "\n",
    "print(\"*********\")\n",
    "print(my_function())\n",
    "print(my_function.__name__)\n",
    "print(my_function.__doc__)\n",
    "\n",
    "print(\"*********\")\n",
    "print(my_another_function())\n",
    "print(my_another_function.__name__)\n",
    "print(my_another_function.__doc__)\n",
    "print(\"*********\")"
   ]
  },
  {
   "cell_type": "code",
   "execution_count": 2,
   "id": "3ec5c151-6186-4984-b3d3-283ea03e96f0",
   "metadata": {},
   "outputs": [
    {
     "name": "stdout",
     "output_type": "stream",
     "text": [
      "My arguments are: Winchester, Manchester\n",
      "Cities passed as arguments are : Winchester and Manchester\n"
     ]
    }
   ],
   "source": [
    "# Arguments to decorator function. Note the 'decorator', 'wrapper' and 'wrapped function' terms in explanation.\n",
    "def decorator_with_arguments(function):\n",
    "    def wrapper_accepting_arguments(arg1, arg2):\n",
    "        print(\"My arguments are: {0}, {1}\".format(arg1, arg2))\n",
    "        function(arg1, arg2)        \n",
    "    return wrapper_accepting_arguments\n",
    "\n",
    "@decorator_with_arguments\n",
    "def cities(city_one, city_two):\n",
    "    print(\"Cities passed as arguments are : {0} and {1}\".format(city_one, city_two))\n",
    "\n",
    "cities(\"Winchester\", \"Manchester\")"
   ]
  },
  {
   "cell_type": "code",
   "execution_count": null,
   "id": "4d8e6924-247f-419c-bd7c-4e968645194a",
   "metadata": {},
   "outputs": [],
   "source": []
  }
 ],
 "metadata": {
  "kernelspec": {
   "display_name": "Python (.venev)",
   "language": "python",
   "name": ".venv"
  },
  "language_info": {
   "codemirror_mode": {
    "name": "ipython",
    "version": 3
   },
   "file_extension": ".py",
   "mimetype": "text/x-python",
   "name": "python",
   "nbconvert_exporter": "python",
   "pygments_lexer": "ipython3",
   "version": "3.13.1"
  }
 },
 "nbformat": 4,
 "nbformat_minor": 5
}
