{
 "cells": [
  {
   "cell_type": "markdown",
   "metadata": {},
   "source": [
    "## The Abstract Factory Pattern is a step up from the Factory Method. It provides an interface for creating families of related or dependent objects without specifying their concrete classes.\n",
    "\n",
    "When to Use:\n",
    "When you need to create families of related or dependent objects that should be used together.\n",
    "When you want to ensure consistency among the objects created (e.g., UI components that must match a theme).\n",
    "When you want to isolate the creation logic for multiple related classes."
   ]
  },
  {
   "cell_type": "markdown",
   "metadata": {},
   "source": [
    "Imagine a furniture store where you can order furniture sets like \"Victorian Style\" or \"Modern Style\". A Victorian set might include a Victorian Chair, Victorian Table, and Victorian Sofa, while a Modern set would include Modern versions of those items. The client doesn't care how these items are created; they just order the set."
   ]
  },
  {
   "cell_type": "code",
   "execution_count": null,
   "metadata": {
    "vscode": {
     "languageId": "plaintext"
    }
   },
   "outputs": [],
   "source": [
    "# create a UI component system where you can switch between Light Theme and Dark Theme styles.\n",
    "\n"
   ]
  }
 ],
 "metadata": {
  "language_info": {
   "name": "python"
  }
 },
 "nbformat": 4,
 "nbformat_minor": 2
}
