{
 "cells": [
  {
   "cell_type": "markdown",
   "id": "c58844a7",
   "metadata": {},
   "source": [
    "# Test structured output"
   ]
  },
  {
   "cell_type": "code",
   "execution_count": 2,
   "id": "c81d46bd-e8c0-4006-af38-e055a1a03a17",
   "metadata": {
    "height": 132
   },
   "outputs": [],
   "source": [
    "import os\n",
    "from typing import Optional\n",
    "from dotenv import load_dotenv, find_dotenv\n",
    "\n",
    "_env_loaded = False\n",
    "\n",
    "def load_env() -> bool:\n",
    "    global _env_loaded\n",
    "    if not _env_loaded:\n",
    "        _env_loaded = load_dotenv(find_dotenv())\n",
    "    return _env_loaded\n",
    "\n",
    "def get_env(key: str, default: Optional[str] = None) -> Optional[str]:\n",
    "    load_env()\n",
    "    return os.getenv(key, default)"
   ]
  },
  {
   "cell_type": "code",
   "execution_count": null,
   "id": "910784e2",
   "metadata": {},
   "outputs": [],
   "source": [
    "from azure.ai.inference import ChatCompletionsClient\n",
    "from azure.core.credentials import AzureKeyCredential\n",
    "\n",
    "client = ChatCompletionsClient(\n",
    "    endpoint=get_env(\"GITHUB_INFERENCE_ENDPOINT\"),\n",
    "    credential=AzureKeyCredential(get_env(\"GITHUB_TOKEN\")),\n",
    ")\n",
    "\n",
    "response = client.complete(\n",
    "    messages=[\n",
    "        {\n",
    "            \"role\": \"user\",\n",
    "            \"content\": \"What is the capital of France?\",\n",
    "        }\n",
    "    ],\n",
    "    model=\"gpt-4o-mini\",\n",
    "    temperature=1,\n",
    "    max_tokens=4096,\n",
    "    top_p=1\n",
    ")\n",
    "\n",
    "print(response.choices[0].message.content)\n",
    "\n",
    "# This seems to work only for Serverless API or managed compute endpoint\n",
    "#model_info = client.get_model_info()\n",
    "#print(model_info)\n"
   ]
  },
  {
   "cell_type": "code",
   "execution_count": null,
   "id": "d5ff7ac9-afbe-401e-aaaa-920b4bda9ef0",
   "metadata": {
    "height": 30
   },
   "outputs": [],
   "source": []
  }
 ],
 "metadata": {
  "kernelspec": {
   "display_name": ".venv",
   "language": "python",
   "name": "python3"
  },
  "language_info": {
   "codemirror_mode": {
    "name": "ipython",
    "version": 3
   },
   "file_extension": ".py",
   "mimetype": "text/x-python",
   "name": "python",
   "nbconvert_exporter": "python",
   "pygments_lexer": "ipython3",
   "version": "3.13.1"
  }
 },
 "nbformat": 4,
 "nbformat_minor": 5
}
