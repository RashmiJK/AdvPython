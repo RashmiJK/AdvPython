{
 "cells": [
  {
   "cell_type": "code",
   "execution_count": 1,
   "id": "8596d5e6-96cb-46b5-bb25-ad7b858dca4a",
   "metadata": {},
   "outputs": [],
   "source": [
    "from redlines import Redlines\n",
    "from IPython.display import display, Markdown, Latex, HTML, JSON"
   ]
  },
  {
   "cell_type": "code",
   "execution_count": 3,
   "id": "c43aeb50-d9a5-405e-8b77-409e2608768f",
   "metadata": {},
   "outputs": [],
   "source": [
    "text = \"Got this for my daughter for her birthday cuz she keeps taking \\\n",
    "mine from my room.  Yes, adults also like pandas too.  She takes \\\n",
    "it everywhere with her, and it's super soft and cute.  One of the \\\n",
    "ears is a bit lower than the other, and I don't think that was \\\n",
    "designed to be asymmetrical. It's a bit small for what I paid for it \\\n",
    "though. I think there might be other options that are bigger for \\\n",
    "the same price.  It arrived a day earlier than expected, so I got \\\n",
    "to play with it myself before I gave it to my daughter.\""
   ]
  },
  {
   "cell_type": "code",
   "execution_count": 5,
   "id": "b42396e3-f2d4-48af-ae42-428508276524",
   "metadata": {},
   "outputs": [],
   "source": [
    "response = \"I got this for my daughter for her birthday because she keeps taking mine from my room. Yes, adults also like pandas too. She takes it everywhere with her, and it's super soft and cute. One of the ears is a bit lower than the other, and I don't think that was designed to be asymmetrical. It's a bit small for what I paid for it though. I think there might be other options that are bigger for the same price. It arrived a day earlier than expected, so I got to play with it myself before I gave it to my daughter.\""
   ]
  },
  {
   "cell_type": "code",
   "execution_count": null,
   "id": "ae70da3b-7cf4-48c2-bb04-926d6cb8e8e3",
   "metadata": {},
   "outputs": [],
   "source": [
    "diff = Redlines(text,response)\n",
    "display(Markdown(diff.output_markdown))"
   ]
  },
  {
   "cell_type": "code",
   "execution_count": null,
   "id": "fdb0bf02-5260-4184-ae27-6c39f9d07a78",
   "metadata": {},
   "outputs": [],
   "source": [
    "sample_html = f\"<html> \\\n",
    "<head>\n",
    "    <title>Restaurant Employees</title>\n",
    "</head>\n",
    "<body>\n",
    "    <table>\n",
    "        <tr>\n",
    "            <th>Name</th>\n",
    "            <th>Email</th>\n",
    "        </tr>\n",
    "        <tr>\n",
    "            <td>Shyam</td>\n",
    "            <td>shyamjaiswal@gmail.com</td>\n",
    "        </tr>\n",
    "        <tr>\n",
    "            <td>Bob</td>\n",
    "            <td>bob32@gmail.com</td>\n",
    "        </tr>\n",
    "        <tr>\n",
    "            <td>Jai</td>\n",
    "            <td>jai87@gmail.com</td>\n",
    "        </tr>\n",
    "    </table>\n",
    "</body>\n",
    "</html>\""
   ]
  },
  {
   "cell_type": "code",
   "execution_count": null,
   "id": "5eec443b-9896-4616-86cc-fa523dca602e",
   "metadata": {},
   "outputs": [],
   "source": []
  },
  {
   "cell_type": "code",
   "execution_count": null,
   "id": "d5bd11c4-9afc-465f-b675-f97420d00544",
   "metadata": {},
   "outputs": [],
   "source": []
  }
 ],
 "metadata": {
  "kernelspec": {
   "display_name": "Python [conda env:.nvenv]",
   "language": "python",
   "name": "conda-env-.nvenv-py"
  },
  "language_info": {
   "codemirror_mode": {
    "name": "ipython",
    "version": 3
   },
   "file_extension": ".py",
   "mimetype": "text/x-python",
   "name": "python",
   "nbconvert_exporter": "python",
   "pygments_lexer": "ipython3",
   "version": "3.13.1"
  }
 },
 "nbformat": 4,
 "nbformat_minor": 5
}
