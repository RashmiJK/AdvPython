{
 "cells": [
  {
   "cell_type": "markdown",
   "id": "c3bcd7f2-db8b-4875-8a5c-42ab725b517e",
   "metadata": {},
   "source": [
    "Pydantic package helps with type checking in Python . It is useful for schema validation."
   ]
  },
  {
   "cell_type": "code",
   "execution_count": null,
   "id": "5db6c159-3997-4bb5-a9dd-2221fe4af887",
   "metadata": {},
   "outputs": [],
   "source": [
    "Data Validation example"
   ]
  },
  {
   "cell_type": "code",
   "execution_count": null,
   "id": "5454f87b-0fa5-461f-b4f4-87beaee4f38f",
   "metadata": {},
   "outputs": [],
   "source": [
    "!conda install -y pydantic"
   ]
  },
  {
   "cell_type": "code",
   "execution_count": 3,
   "id": "a04e7387-4b84-4a0f-af5e-70981eabacce",
   "metadata": {},
   "outputs": [],
   "source": [
    "from pydantic import BaseModel, Field\n",
    "# Field is readily available validation\n",
    "\n",
    "# User class is derived from BaseModel class\n",
    "class User(BaseModel):\n",
    "    name: str\n",
    "    age: int = Field(gt=0, lt=120)\n",
    "    email: str"
   ]
  },
  {
   "cell_type": "code",
   "execution_count": null,
   "id": "e2a70a25-0466-4e5a-9f3b-757de2ced048",
   "metadata": {
    "scrolled": true
   },
   "outputs": [],
   "source": [
    "# Successful validation\n",
    "try:\n",
    "    user = User(name=\"Py Learner\", age=30, email=\"pylearner@learner.com\")\n",
    "    print(user)\n",
    "except Exception as e:\n",
    "    # catch-all\n",
    "    print(f\"Error occured: {e} \", exc_info=True)\n",
    "else:\n",
    "    print(\"Operation successful\")\n",
    "finally:\n",
    "    print(\"Cleanup code\")\n",
    "\n",
    "# Example of validation error\n",
    "try:\n",
    "    user = User(name=\"Invalid\", age=150, email=\"learner.com\")\n",
    "    print(user)\n",
    "except Exception as e:\n",
    "    # catch-all\n",
    "    print(f\"Error occured: {e} \", exc_info=True)\n",
    "else:\n",
    "    print(\"Operation successful\")\n",
    "finally:\n",
    "    print(\"Cleanup code\")"
   ]
  },
  {
   "cell_type": "code",
   "execution_count": null,
   "id": "400a2218-ac6a-4e84-a893-5e8d2b190c95",
   "metadata": {},
   "outputs": [],
   "source": [
    "# custom validation\n",
    "\n"
   ]
  }
 ],
 "metadata": {
  "kernelspec": {
   "display_name": "Python (.venev)",
   "language": "python",
   "name": ".venv"
  },
  "language_info": {
   "codemirror_mode": {
    "name": "ipython",
    "version": 3
   },
   "file_extension": ".py",
   "mimetype": "text/x-python",
   "name": "python",
   "nbconvert_exporter": "python",
   "pygments_lexer": "ipython3",
   "version": "3.13.1"
  }
 },
 "nbformat": 4,
 "nbformat_minor": 5
}
