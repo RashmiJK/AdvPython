{
 "cells": [
  {
   "cell_type": "markdown",
   "id": "15a26d1c-fe40-4083-83b5-8b2e3099e544",
   "metadata": {},
   "source": [
    "# Ensures that a class has only one instance and provides a global point of access to it. Such design pattern is required for configuration manager, logger, or database connection."
   ]
  },
  {
   "cell_type": "code",
   "execution_count": 1,
   "id": "622886ad-bb28-4b15-9b6b-cf7551ea4ef8",
   "metadata": {},
   "outputs": [
    {
     "name": "stdout",
     "output_type": "stream",
     "text": [
      "Singleton __new__ creating instance\n",
      "BaseClass __new__ called\n",
      "Singleton __init__ initializing instance\n",
      "BaseClass __init__ called\n",
      "Base Value 1 Singleton Value 1\n",
      "Base Value 1 Singleton Value 1\n"
     ]
    }
   ],
   "source": [
    "class BaseClass:\n",
    "    def __new__(cls, *args, **kwargs):\n",
    "        print(\"BaseClass __new__ called\")\n",
    "        return super(BaseClass, cls).__new__(cls)\n",
    "\n",
    "    def __init__(self, base_value):\n",
    "        print(\"BaseClass __init__ called\")\n",
    "        self.base_value = base_value\n",
    "\n",
    "\n",
    "class Singleton(BaseClass):\n",
    "    _instance = None\n",
    "\n",
    "    def __new__(cls, *args, **kwargs):\n",
    "        if not cls._instance:\n",
    "            print(\"Singleton __new__ creating instance\")\n",
    "            cls._instance = super(Singleton, cls).__new__(cls, *args, **kwargs)\n",
    "        return cls._instance\n",
    "\n",
    "    def __init__(self, base_value, singleton_value):\n",
    "        if not hasattr(self, \"singleton_value\"):  # Avoid reinitialization\n",
    "            print(\"Singleton __init__ initializing instance\")\n",
    "            super().__init__(base_value)\n",
    "            self.singleton_value = singleton_value\n",
    "\n",
    "\n",
    "# Example Usage\n",
    "singleton1 = Singleton(\"Base Value 1\", \"Singleton Value 1\")\n",
    "singleton2 = Singleton(\"Base Value 2\", \"Singleton Value 2\")\n",
    "\n",
    "print(singleton1.base_value, singleton1.singleton_value)  # Output: Base Value 1 Singleton Value 1\n",
    "print(singleton2.base_value, singleton2.singleton_value)  # Output: Base Value 1 Singleton Value 1\n"
   ]
  },
  {
   "cell_type": "code",
   "execution_count": 8,
   "id": "cb0020ed",
   "metadata": {},
   "outputs": [
    {
     "name": "stdout",
     "output_type": "stream",
     "text": [
      "Creating a new instance\n",
      "Initializing instance\n",
      "<__main__.Singleton object at 0x1074c0980>\n",
      "Initializing instance\n",
      "<__main__.Singleton object at 0x1074c0980>\n",
      "Second\n",
      "Second\n"
     ]
    }
   ],
   "source": [
    "class Singleton:\n",
    "    _instance = None\n",
    "\n",
    "    def __new__(cls, *args, **kwargs):\n",
    "        if not cls._instance:\n",
    "            print(\"Creating a new instance\")\n",
    "            cls._instance = super(Singleton, cls).__new__(cls)\n",
    "        return cls._instance\n",
    "\n",
    "    def __init__(self, value):\n",
    "        print(\"Initializing instance\")\n",
    "        self.value = value\n",
    "\n",
    "# Example Usage\n",
    "singleton1 = Singleton(\"First\")\n",
    "print(singleton1)\n",
    "singleton2 = Singleton(\"Second\")\n",
    "print(singleton2)\n",
    "\n",
    "print(singleton1.value)  # Output: First\n",
    "print(singleton2.value)  # Output: First\n"
   ]
  }
 ],
 "metadata": {
  "kernelspec": {
   "display_name": ".nvenv",
   "language": "python",
   "name": "python3"
  },
  "language_info": {
   "codemirror_mode": {
    "name": "ipython",
    "version": 3
   },
   "file_extension": ".py",
   "mimetype": "text/x-python",
   "name": "python",
   "nbconvert_exporter": "python",
   "pygments_lexer": "ipython3",
   "version": "3.13.1"
  }
 },
 "nbformat": 4,
 "nbformat_minor": 5
}
