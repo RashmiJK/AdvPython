{
 "cells": [
  {
   "cell_type": "markdown",
   "id": "15a26d1c-fe40-4083-83b5-8b2e3099e544",
   "metadata": {},
   "source": [
    "# Ensures that a class has only one instance and provides a global point of access to it. Such design pattern is required for configuration manager, logger, or database connection."
   ]
  },
  {
   "cell_type": "code",
   "execution_count": 1,
   "id": "622886ad-bb28-4b15-9b6b-cf7551ea4ef8",
   "metadata": {},
   "outputs": [
    {
     "name": "stdout",
     "output_type": "stream",
     "text": [
      "Singleton __new__ creating instance\n",
      "BaseClass __new__ called\n",
      "Singleton __init__ initializing instance\n",
      "BaseClass __init__ called\n",
      "Base Value 1 Singleton Value 1\n",
      "Base Value 1 Singleton Value 1\n"
     ]
    }
   ],
   "source": [
    "class BaseClass:\n",
    "    def __new__(cls, *args, **kwargs):\n",
    "        print(\"BaseClass __new__ called\")\n",
    "        return super(BaseClass, cls).__new__(cls)\n",
    "\n",
    "    def __init__(self, base_value):\n",
    "        print(\"BaseClass __init__ called\")\n",
    "        self.base_value = base_value\n",
    "\n",
    "\n",
    "class Singleton(BaseClass):\n",
    "    _instance = None\n",
    "\n",
    "    def __new__(cls, *args, **kwargs):\n",
    "        if not cls._instance:\n",
    "            print(\"Singleton __new__ creating instance\")\n",
    "            cls._instance = super(Singleton, cls).__new__(cls, *args, **kwargs)\n",
    "        return cls._instance\n",
    "\n",
    "    def __init__(self, base_value, singleton_value):\n",
    "        if not hasattr(self, \"singleton_value\"):  # Avoid reinitialization\n",
    "            print(\"Singleton __init__ initializing instance\")\n",
    "            super().__init__(base_value)\n",
    "            self.singleton_value = singleton_value\n",
    "\n",
    "\n",
    "# Example Usage\n",
    "singleton1 = Singleton(\"Base Value 1\", \"Singleton Value 1\")\n",
    "singleton2 = Singleton(\"Base Value 2\", \"Singleton Value 2\")\n",
    "\n",
    "print(singleton1.base_value, singleton1.singleton_value)  # Output: Base Value 1 Singleton Value 1\n",
    "print(singleton2.base_value, singleton2.singleton_value)  # Output: Base Value 1 Singleton Value 1\n"
   ]
  },
  {
   "cell_type": "code",
   "execution_count": 7,
   "id": "cb0020ed",
   "metadata": {},
   "outputs": [
    {
     "name": "stdout",
     "output_type": "stream",
     "text": [
      "Args received : ('John', 30)\n",
      "Kwargs received : {'city': 'New York', 'country': 'USA'}\n",
      "Creating a new instance\n",
      "Initializing instance\n",
      "<__main__.Singleton object at 0x10805a510>\n",
      "Name: John, Age: 30\n",
      "city: New York\n",
      "country: USA\n",
      "Args received : ('Jane', 25)\n",
      "Kwargs received : {'city': 'San Francisco', 'country': 'USA'}\n",
      "Initializing instance\n",
      "<__main__.Singleton object at 0x10805a510>\n",
      "Name: Jane, Age: 25\n",
      "city: San Francisco\n",
      "country: USA\n"
     ]
    }
   ],
   "source": [
    "class Singleton:\n",
    "    _instance = None\n",
    "\n",
    "    def __new__(cls, *args, **kwargs):\n",
    "        print(f\"Args received : {args}\")\n",
    "        print(f\"Kwargs received : {kwargs}\")\n",
    "        if not cls._instance:\n",
    "            print(\"Creating a new instance\")\n",
    "            cls._instance = super(Singleton, cls).__new__(cls)\n",
    "        return cls._instance\n",
    "\n",
    "    def __init__(self, name, age, **extra):\n",
    "        print(\"Initializing instance\")\n",
    "        self.name = name\n",
    "        self.age = age\n",
    "        for key, value in extra.items():\n",
    "            setattr(self, key, value)\n",
    "\n",
    "    def getvalues(self):\n",
    "        print(f\"Name: {self.name}, Age: {self.age}\")\n",
    "        for key, value in self.__dict__.items():\n",
    "            if key not in [\"name\", \"age\"]:\n",
    "                print(f\"{key}: {value}\")\n",
    "\n",
    "# Example Usage\n",
    "singleton1 = Singleton(\"John\", 30, city=\"New York\", country=\"USA\")\n",
    "print(singleton1)\n",
    "singleton1.getvalues()\n",
    "singleton2 = Singleton(\"Jane\", 25, city=\"San Francisco\", country=\"USA\")\n",
    "print(singleton2)\n",
    "singleton2.getvalues()\n"
   ]
  }
 ],
 "metadata": {
  "kernelspec": {
   "display_name": ".nvenv",
   "language": "python",
   "name": "python3"
  },
  "language_info": {
   "codemirror_mode": {
    "name": "ipython",
    "version": 3
   },
   "file_extension": ".py",
   "mimetype": "text/x-python",
   "name": "python",
   "nbconvert_exporter": "python",
   "pygments_lexer": "ipython3",
   "version": "3.13.1"
  }
 },
 "nbformat": 4,
 "nbformat_minor": 5
}
