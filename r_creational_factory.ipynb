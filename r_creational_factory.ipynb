{
 "cells": [
  {
   "cell_type": "markdown",
   "id": "15a26d1c-fe40-4083-83b5-8b2e3099e544",
   "metadata": {},
   "source": [
    "##Concept:\n",
    "The Factory Method Pattern provides an interface for creating objects but allows subclasses to alter the type of objects that will be created. This pattern delegates the responsibility of instantiating objects to a method (often called a \"factory\").\n",
    "\n",
    "##When to Use:\n",
    "When you want to create objects without specifying their exact class.\n",
    "When the exact type of the object to be created depends on some condition or context."
   ]
  },
  {
   "cell_type": "code",
   "execution_count": null,
   "id": "3bed4f4f",
   "metadata": {},
   "outputs": [],
   "source": [
    "# Notification system. Depending on the input, you might want to create an EmailNotification or an SMSNotification. Instead of writing logic outside the classes to decide which object to instantiate, the Factory Method handles this.\n",
    "\n",
    "# abc : Abstract Base Classes\n",
    "from abc import ABC, abstractmethod\n",
    "\n",
    "# Step 1: Define the Product Interface\n",
    "class Notification(ABC):\n",
    "    @abstractmethod\n",
    "    def notify(self, message):\n",
    "        pass\n",
    "\n",
    "# Step 2: Concrete Products\n",
    "class EmailNotification(Notification):\n",
    "    def notify(self, message):\n",
    "        return f\"Sending email: {message}\"\n",
    "\n",
    "class SMSNotification(Notification):\n",
    "    def notify(self, message):\n",
    "        return f\"Sending SMS: {message}\"\n",
    "\n",
    "# Step 3: Factory Interface\n",
    "class NotificationFactory(ABC):\n",
    "    @abstractmethod\n",
    "    def create_notification(self):\n",
    "        pass\n",
    "\n",
    "# Step 4: Concrete Factories\n",
    "class EmailNotificationFactory(NotificationFactory):\n",
    "    def create_notification(self):\n",
    "        return EmailNotification()\n",
    "\n",
    "class SMSNotificationFactory(NotificationFactory):\n",
    "    def create_notification(self):\n",
    "        return SMSNotification()\n",
    "\n",
    "# Step 5: Client Code\n",
    "def send_notification(factory: NotificationFactory, message: str):\n",
    "    notification = factory.create_notification()\n",
    "    return notification.notify(message)\n",
    "\n",
    "# Example Usage\n",
    "email_factory = EmailNotificationFactory()\n",
    "sms_factory = SMSNotificationFactory()\n",
    "\n",
    "print(send_notification(email_factory, \"Hello via Email!\"))  # Output: Sending email: Hello via Email!\n",
    "print(send_notification(sms_factory, \"Hello via SMS!\"))      # Output: Sending SMS: Hello via SMS!"
   ]
  },
  {
   "cell_type": "markdown",
   "id": "f4865a65",
   "metadata": {},
   "source": [
    "## Advantages:\n",
    "Open/Closed Principle: New notification types can be added without modifying existing code.\n",
    "Encapsulation: Creation logic is encapsulated in the factory classes.\n",
    "Flexibility: Decouples the client code from specific classes, making it easier to extend."
   ]
  }
 ],
 "metadata": {
  "kernelspec": {
   "display_name": ".nvenv",
   "language": "python",
   "name": "python3"
  },
  "language_info": {
   "codemirror_mode": {
    "name": "ipython",
    "version": 3
   },
   "file_extension": ".py",
   "mimetype": "text/x-python",
   "name": "python",
   "nbconvert_exporter": "python",
   "pygments_lexer": "ipython3",
   "version": "3.13.1"
  }
 },
 "nbformat": 4,
 "nbformat_minor": 5
}
